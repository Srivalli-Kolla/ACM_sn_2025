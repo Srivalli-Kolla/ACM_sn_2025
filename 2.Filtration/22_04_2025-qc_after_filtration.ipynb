{
 "cells": [
  {
   "cell_type": "markdown",
   "metadata": {},
   "source": [
    "# Notebook to check the Quality of data after filtration\n",
    "\n",
    "**Created by :** Srivalli Kolla\n",
    "\n",
    "**Created on :** 22 April, 2025\n",
    "\n",
    "**Modified on :** 24 April, 2025\n",
    "\n",
    "**University of Würzburg**"
   ]
  },
  {
   "cell_type": "markdown",
   "metadata": {},
   "source": [
    "Env : scanpy (Python 3.12.2)"
   ]
  },
  {
   "cell_type": "markdown",
   "metadata": {},
   "source": [
    "# Importing Packages"
   ]
  },
  {
   "cell_type": "code",
   "execution_count": 1,
   "metadata": {},
   "outputs": [],
   "source": [
    "import bbknn\n",
    "import anndata\n",
    "import numpy as np\n",
    "import pandas as pd\n",
    "import scanpy as sc\n",
    "import seaborn as sns\n",
    "import datetime\n",
    "import os\n",
    "from pywaffle import Waffle\n",
    "import matplotlib.pyplot as plt"
   ]
  },
  {
   "cell_type": "code",
   "execution_count": 2,
   "metadata": {},
   "outputs": [
    {
     "name": "stdout",
     "output_type": "stream",
     "text": [
      "-----\n",
      "anndata     0.11.3\n",
      "scanpy      1.10.4\n",
      "-----\n",
      "Cython                      3.0.12\n",
      "PIL                         11.1.0\n",
      "annoy                       NA\n",
      "anyio                       NA\n",
      "arrow                       1.3.0\n",
      "asttokens                   NA\n",
      "attr                        25.1.0\n",
      "attrs                       25.1.0\n",
      "babel                       2.17.0\n",
      "bbknn                       1.6.0\n",
      "certifi                     2025.01.31\n",
      "cffi                        1.17.1\n",
      "charset_normalizer          3.4.1\n",
      "colorama                    0.4.6\n",
      "comm                        0.2.2\n",
      "cycler                      0.12.1\n",
      "cython                      3.0.12\n",
      "cython_runtime              NA\n",
      "dateutil                    2.9.0.post0\n",
      "debugpy                     1.8.12\n",
      "decorator                   5.2.1\n",
      "defusedxml                  0.7.1\n",
      "executing                   2.1.0\n",
      "fastjsonschema              NA\n",
      "fqdn                        NA\n",
      "h5py                        3.13.0\n",
      "idna                        3.10\n",
      "igraph                      0.11.8\n",
      "ipykernel                   6.29.5\n",
      "ipywidgets                  8.1.5\n",
      "isoduration                 NA\n",
      "jedi                        0.19.2\n",
      "jinja2                      3.1.6\n",
      "joblib                      1.4.2\n",
      "json5                       0.10.0\n",
      "jsonpointer                 3.0.0\n",
      "jsonschema                  4.23.0\n",
      "jsonschema_specifications   NA\n",
      "jupyter_events              0.12.0\n",
      "jupyter_server              2.15.0\n",
      "jupyterlab_server           2.27.3\n",
      "kiwisolver                  1.4.7\n",
      "legacy_api_wrap             NA\n",
      "leidenalg                   0.10.2\n",
      "llvmlite                    0.44.0\n",
      "markupsafe                  3.0.2\n",
      "matplotlib                  3.10.1\n",
      "mpl_toolkits                NA\n",
      "natsort                     8.4.0\n",
      "nbformat                    5.10.4\n",
      "numba                       0.61.0\n",
      "numpy                       2.1.3\n",
      "overrides                   NA\n",
      "packaging                   24.2\n",
      "pandas                      2.2.3\n",
      "parso                       0.8.4\n",
      "patsy                       1.0.1\n",
      "platformdirs                4.3.6\n",
      "prometheus_client           NA\n",
      "prompt_toolkit              3.0.50\n",
      "psutil                      7.0.0\n",
      "pure_eval                   0.2.3\n",
      "pycparser                   2.22\n",
      "pydev_ipython               NA\n",
      "pydevconsole                NA\n",
      "pydevd                      3.2.3\n",
      "pydevd_file_utils           NA\n",
      "pydevd_plugins              NA\n",
      "pydevd_tracing              NA\n",
      "pygments                    2.19.1\n",
      "pynndescent                 0.5.13\n",
      "pyparsing                   3.2.1\n",
      "pythonjsonlogger            NA\n",
      "pytz                        2024.1\n",
      "pywaffle                    NA\n",
      "referencing                 NA\n",
      "requests                    2.32.3\n",
      "rfc3339_validator           0.1.4\n",
      "rfc3986_validator           0.1.1\n",
      "rpds                        NA\n",
      "scipy                       1.15.2\n",
      "seaborn                     0.13.2\n",
      "send2trash                  NA\n",
      "session_info                1.0.0\n",
      "six                         1.17.0\n",
      "sklearn                     1.6.1\n",
      "sniffio                     1.3.1\n",
      "stack_data                  0.6.3\n",
      "statsmodels                 0.14.4\n",
      "texttable                   1.7.0\n",
      "threadpoolctl               3.5.0\n",
      "tornado                     6.4.2\n",
      "tqdm                        4.67.1\n",
      "traitlets                   5.14.3\n",
      "typing_extensions           NA\n",
      "umap                        0.5.7\n",
      "uri_template                NA\n",
      "urllib3                     2.3.0\n",
      "vscode                      NA\n",
      "wcwidth                     0.2.13\n",
      "webcolors                   NA\n",
      "websocket                   1.8.0\n",
      "yaml                        6.0.2\n",
      "zmq                         26.2.1\n",
      "-----\n",
      "IPython             9.0.1\n",
      "jupyter_client      8.6.3\n",
      "jupyter_core        5.7.2\n",
      "jupyterlab          4.3.6\n",
      "notebook            7.3.3\n",
      "-----\n",
      "Python 3.13.2 | packaged by conda-forge | (main, Feb 17 2025, 14:10:22) [GCC 13.3.0]\n",
      "Linux-6.13.12-200.fc41.x86_64-x86_64-with-glibc2.37\n",
      "-----\n",
      "Session information updated at 2025-04-24 19:20\n"
     ]
    },
    {
     "name": "stderr",
     "output_type": "stream",
     "text": [
      "/home/gruengroup/srivalli/miniconda3/envs/scanpy/lib/python3.13/site-packages/session_info/main.py:213: UserWarning: The '__version__' attribute is deprecated and will be removed in MarkupSafe 3.1. Use feature detection, or `importlib.metadata.version(\"markupsafe\")`, instead.\n",
      "  mod_version = _find_version(mod.__version__)\n"
     ]
    }
   ],
   "source": [
    "sc.settings.verbosity = 3\n",
    "sc.logging.print_versions()\n",
    "\n",
    "plt.rcParams['figure.dpi'] = 300  \n",
    "plt.rcParams['savefig.dpi'] = 300\n",
    "\n",
    "timestamp = datetime.datetime.now().strftime(\"%d_%m_%y\")"
   ]
  },
  {
   "cell_type": "markdown",
   "metadata": {},
   "source": [
    "# Import Data"
   ]
  },
  {
   "cell_type": "code",
   "execution_count": 3,
   "metadata": {},
   "outputs": [
    {
     "data": {
      "text/plain": [
       "AnnData object with n_obs × n_vars = 157012 × 32285\n",
       "    obs: 'sample', 'Sample_Name', 'Sex', 'Genotype', 'Treatment', 'Condition', 'Sample_ID', 'n_genes_by_counts', 'total_counts', 'total_counts_mt', 'pct_counts_mt', 'total_counts_ribo', 'pct_counts_ribo', 'doublet_scores', 'predicted_doublets', 'percent_chrY', 'XIST-counts', 'XIST-percentage', 'gender_check_cov', 'S_score', 'G2M_score', 'phase'\n",
       "    var: 'mt', 'ribo', 'n_cells_by_counts', 'mean_counts', 'pct_dropout_by_counts', 'total_counts'\n",
       "    uns: 'Sample_ID_colors'\n",
       "    layers: 'raw_counts'"
      ]
     },
     "execution_count": 3,
     "metadata": {},
     "output_type": "execute_result"
    }
   ],
   "source": [
    "adata = sc.read_h5ad('./Github/ACM_sn_2025/data/acm_raw_basic_qc_filtered_22_04_25.h5ad')\n",
    "adata"
   ]
  },
  {
   "cell_type": "markdown",
   "metadata": {},
   "source": [
    "## Check if data is raw or Normalized"
   ]
  },
  {
   "cell_type": "code",
   "execution_count": 4,
   "metadata": {},
   "outputs": [],
   "source": [
    "def X_is_raw(adata):\n",
    "    return np.array_equal(adata.X.sum(axis=0).astype(int), adata.X.sum(axis=0))"
   ]
  },
  {
   "cell_type": "code",
   "execution_count": 5,
   "metadata": {},
   "outputs": [],
   "source": [
    "adata.X = adata.layers['raw_counts']"
   ]
  },
  {
   "cell_type": "code",
   "execution_count": 6,
   "metadata": {},
   "outputs": [
    {
     "name": "stdout",
     "output_type": "stream",
     "text": [
      "True\n"
     ]
    }
   ],
   "source": [
    "print(X_is_raw(adata))"
   ]
  },
  {
   "cell_type": "markdown",
   "metadata": {},
   "source": [
    "# QC"
   ]
  },
  {
   "cell_type": "markdown",
   "metadata": {},
   "source": [
    "## Highly Variable Genes removal"
   ]
  },
  {
   "cell_type": "code",
   "execution_count": 7,
   "metadata": {},
   "outputs": [
    {
     "name": "stdout",
     "output_type": "stream",
     "text": [
      "extracting highly variable genes\n",
      "--> added\n",
      "    'highly_variable', boolean vector (adata.var)\n",
      "    'highly_variable_rank', float vector (adata.var)\n",
      "    'means', float vector (adata.var)\n",
      "    'variances', float vector (adata.var)\n",
      "    'variances_norm', float vector (adata.var)\n"
     ]
    },
    {
     "data": {
      "text/plain": [
       "AnnData object with n_obs × n_vars = 157012 × 32285\n",
       "    obs: 'sample', 'Sample_Name', 'Sex', 'Genotype', 'Treatment', 'Condition', 'Sample_ID', 'n_genes_by_counts', 'total_counts', 'total_counts_mt', 'pct_counts_mt', 'total_counts_ribo', 'pct_counts_ribo', 'doublet_scores', 'predicted_doublets', 'percent_chrY', 'XIST-counts', 'XIST-percentage', 'gender_check_cov', 'S_score', 'G2M_score', 'phase'\n",
       "    var: 'mt', 'ribo', 'n_cells_by_counts', 'mean_counts', 'pct_dropout_by_counts', 'total_counts', 'highly_variable', 'highly_variable_rank', 'means', 'variances', 'variances_norm', 'highly_variable_nbatches'\n",
       "    uns: 'Sample_ID_colors', 'hvg'\n",
       "    layers: 'raw_counts'"
      ]
     },
     "execution_count": 7,
     "metadata": {},
     "output_type": "execute_result"
    }
   ],
   "source": [
    "sc.pp.highly_variable_genes(adata, flavor = \"seurat_v3\",n_top_genes = 8000,batch_key = 'Sample_ID', layer= 'raw_counts')\n",
    "adata"
   ]
  },
  {
   "cell_type": "markdown",
   "metadata": {},
   "source": [
    "## Normalization"
   ]
  },
  {
   "cell_type": "code",
   "execution_count": 8,
   "metadata": {},
   "outputs": [
    {
     "name": "stdout",
     "output_type": "stream",
     "text": [
      "normalizing counts per cell\n"
     ]
    },
    {
     "name": "stdout",
     "output_type": "stream",
     "text": [
      "    finished (0:00:00)\n"
     ]
    }
   ],
   "source": [
    "sc.pp.normalize_total(adata, target_sum=1e6)\n",
    "sc.pp.log1p(adata)"
   ]
  },
  {
   "cell_type": "code",
   "execution_count": 9,
   "metadata": {},
   "outputs": [
    {
     "name": "stdout",
     "output_type": "stream",
     "text": [
      "False\n"
     ]
    }
   ],
   "source": [
    "print(X_is_raw(adata))"
   ]
  },
  {
   "cell_type": "code",
   "execution_count": 10,
   "metadata": {},
   "outputs": [],
   "source": [
    "adata.layers['cpm_normalization'] = adata.X.copy()"
   ]
  },
  {
   "cell_type": "markdown",
   "metadata": {},
   "source": [
    "# Data visualization"
   ]
  },
  {
   "cell_type": "code",
   "execution_count": 11,
   "metadata": {},
   "outputs": [
    {
     "name": "stdout",
     "output_type": "stream",
     "text": [
      "computing PCA\n"
     ]
    },
    {
     "name": "stdout",
     "output_type": "stream",
     "text": [
      "    with n_comps=50\n"
     ]
    },
    {
     "name": "stderr",
     "output_type": "stream",
     "text": [
      "/home/gruengroup/srivalli/miniconda3/envs/scanpy/lib/python3.13/site-packages/scanpy/preprocessing/_pca.py:374: FutureWarning: Argument `use_highly_variable` is deprecated, consider using the mask argument. Use_highly_variable=True can be called through mask_var=\"highly_variable\". Use_highly_variable=False can be called through mask_var=None\n",
      "  warn(msg, FutureWarning)\n"
     ]
    },
    {
     "name": "stdout",
     "output_type": "stream",
     "text": [
      "    finished (0:00:32)\n",
      "computing neighbors\n",
      "    using 'X_pca' with n_pcs = 50\n",
      "    finished: added to `.uns['neighbors']`\n",
      "    `.obsp['distances']`, distances for each pair of neighbors\n",
      "    `.obsp['connectivities']`, weighted adjacency matrix (0:00:29)\n"
     ]
    }
   ],
   "source": [
    "sc.tl.pca(adata,  n_comps=50, use_highly_variable=True)\n",
    "sc.pp.neighbors(adata)"
   ]
  },
  {
   "cell_type": "code",
   "execution_count": 12,
   "metadata": {},
   "outputs": [
    {
     "name": "stdout",
     "output_type": "stream",
     "text": [
      "computing UMAP\n"
     ]
    },
    {
     "name": "stdout",
     "output_type": "stream",
     "text": [
      "    finished: added\n",
      "    'X_umap', UMAP coordinates (adata.obsm)\n",
      "    'umap', UMAP parameters (adata.uns) (0:00:57)\n"
     ]
    }
   ],
   "source": [
    "sc.tl.umap(adata)"
   ]
  },
  {
   "cell_type": "code",
   "execution_count": 14,
   "metadata": {},
   "outputs": [],
   "source": [
    "sc.pl.umap(adata, color = ['sample','Sample_ID','Sex', 'Genotype', 'Treatment', 'Condition', 'total_counts','n_genes_by_counts', 'doublet_scores', 'predicted_doublets', 'pct_counts_mt', 'pct_counts_ribo', 'percent_chrY', 'XIST-percentage', 'gender_check_cov', 'phase'], layer= 'cpm_normalization',frameon = False, cmap= 'RdYlBu_r')"
   ]
  },
  {
   "cell_type": "code",
   "execution_count": null,
   "metadata": {},
   "outputs": [],
   "source": [
    "sc.pl.umap(adata,color= ['Ttn','Myh6','Dcn','Col1a1','Pecam1','Cdh5','Myh11','Acta2'],frameon = False , cmap= 'RdYlBu_r',layer = 'cpm_normalization')"
   ]
  },
  {
   "cell_type": "markdown",
   "metadata": {},
   "source": [
    "# Batch correction - Sample level"
   ]
  },
  {
   "cell_type": "code",
   "execution_count": null,
   "metadata": {},
   "outputs": [],
   "source": [
    "bbknn_donor = bbknn.bbknn(adata,batch_key = 'sample', neighbors_within_batch = 4, approx = True,  copy = True)\n",
    "bbknn_donor"
   ]
  },
  {
   "cell_type": "markdown",
   "metadata": {},
   "source": [
    "## Data visualization after batch correction"
   ]
  },
  {
   "cell_type": "code",
   "execution_count": null,
   "metadata": {},
   "outputs": [],
   "source": [
    "sc.tl.umap(bbknn_donor)\n",
    "sc.pl.umap(bbknn_donor, color = ['sample','Sample_ID','Sex', 'Genotype', 'Treatment', 'Condition', 'total_counts','n_genes_by_counts', 'doublet_scores', 'predicted_doublets', 'pct_counts_mt', 'pct_counts_ribo', 'percent_chrY', 'XIST-percentage', 'gender_check_cov', 'phase'], layer= 'cpm_normalization',frameon = False, cmap= 'RdYlBu_r')"
   ]
  },
  {
   "cell_type": "code",
   "execution_count": null,
   "metadata": {},
   "outputs": [],
   "source": [
    "sc.pl.umap(bbknn_donor,color= ['Ttn','Myh6','Dcn','Col1a1','Pecam1','Cdh5','Myh11','Acta2'],frameon = False,cmap= 'RdYlBu_r',layer = 'cpm_normalization')"
   ]
  },
  {
   "cell_type": "markdown",
   "metadata": {},
   "source": [
    "# Batch correction - Treatment level"
   ]
  },
  {
   "cell_type": "code",
   "execution_count": null,
   "metadata": {},
   "outputs": [],
   "source": [
    "bbknn_donor2 = bbknn.bbknn(adata,batch_key = 'Treatment', neighbors_within_batch = 4, approx = True,  copy = True)\n",
    "bbknn_donor2"
   ]
  },
  {
   "cell_type": "markdown",
   "metadata": {},
   "source": [
    "## Data visualization after batch correction"
   ]
  },
  {
   "cell_type": "code",
   "execution_count": null,
   "metadata": {},
   "outputs": [],
   "source": [
    "sc.tl.umap(bbknn_donor2)\n",
    "sc.pl.umap(bbknn_donor2, color = ['sample','Sample_ID','Sex', 'Genotype', 'Treatment', 'Condition', 'total_counts','n_genes_by_counts', 'doublet_scores', 'predicted_doublets', 'pct_counts_mt', 'pct_counts_ribo', 'percent_chrY', 'XIST-percentage', 'gender_check_cov', 'phase'], layer= 'cpm_normalization',frameon = False, cmap= 'RdYlBu_r')"
   ]
  },
  {
   "cell_type": "code",
   "execution_count": null,
   "metadata": {},
   "outputs": [],
   "source": [
    "sc.pl.umap(bbknn_donor2,color= ['Ttn','Myh6','Dcn','Col1a1','Pecam1','Cdh5','Myh11','Acta2'],frameon = False,cmap= 'RdYlBu_r',layer = 'cpm_normalization')"
   ]
  }
 ],
 "metadata": {
  "kernelspec": {
   "display_name": "scanpy",
   "language": "python",
   "name": "pyscenic"
  }
 },
 "nbformat": 4,
 "nbformat_minor": 2
}
