{
 "cells": [
  {
   "cell_type": "markdown",
   "metadata": {},
   "source": [
    "# Notebook for Annotation of clusters at `Condition` level after batch correction using `bbknn`\n",
    "\n",
    "**Created by :** Srivalli Kolla\n",
    "\n",
    "**Created on :** 05 May, 2025\n",
    "\n",
    "**Modified on :** 05 May, 2025\n",
    "\n",
    "**University of Würzburg**"
   ]
  },
  {
   "cell_type": "markdown",
   "metadata": {},
   "source": [
    "Env : scanpy (Python 3.12.2)"
   ]
  },
  {
   "cell_type": "markdown",
   "metadata": {},
   "source": [
    "# Importing Packages"
   ]
  },
  {
   "cell_type": "code",
   "execution_count": 1,
   "metadata": {},
   "outputs": [],
   "source": [
    "import numpy as np\n",
    "import pandas as pd\n",
    "import scanpy as sc\n",
    "import seaborn as sb\n",
    "import datetime\n",
    "import matplotlib.pyplot as plt\n",
    "from matplotlib import colors\n",
    "from matplotlib import rcParams"
   ]
  },
  {
   "cell_type": "code",
   "execution_count": 2,
   "metadata": {},
   "outputs": [],
   "source": [
    "sc.settings.verbosity = 3\n",
    "sc.logging.print_versions()\n",
    "\n",
    "plt.rcParams['figure.dpi'] = 300  \n",
    "plt.rcParams['savefig.dpi'] = 300\n",
    "\n",
    "timestamp = datetime.datetime.now().strftime(\"%d_%m_%y\")"
   ]
  },
  {
   "cell_type": "markdown",
   "metadata": {},
   "source": [
    "# Data import"
   ]
  },
  {
   "cell_type": "code",
   "execution_count": 3,
   "metadata": {},
   "outputs": [],
   "source": [
    "adata = sc.read_h5ad('./Github/ACM_sn_2025/data/acm_bbknn_batch_corrected_01_05_25.h5ad')\n",
    "adata"
   ]
  },
  {
   "cell_type": "markdown",
   "metadata": {},
   "source": [
    "#### Check if data is raw or Normalized"
   ]
  },
  {
   "cell_type": "code",
   "execution_count": 4,
   "metadata": {},
   "outputs": [],
   "source": [
    "def X_is_raw(adata):\n",
    "    return np.array_equal(adata.X.sum(axis=0).astype(int), adata.X.sum(axis=0))"
   ]
  },
  {
   "cell_type": "code",
   "execution_count": 5,
   "metadata": {},
   "outputs": [],
   "source": [
    "print(X_is_raw(adata))"
   ]
  },
  {
   "cell_type": "code",
   "execution_count": 6,
   "metadata": {},
   "outputs": [],
   "source": [
    "adata.X= adata.layers['cpm_normalization']\n",
    "print(X_is_raw(adata))"
   ]
  },
  {
   "cell_type": "markdown",
   "metadata": {},
   "source": [
    "# Data Seperation - Condition level"
   ]
  },
  {
   "cell_type": "code",
   "execution_count": 7,
   "metadata": {},
   "outputs": [],
   "source": [
    "adata.obs['Condition'].value_counts()"
   ]
  },
  {
   "cell_type": "code",
   "execution_count": 8,
   "metadata": {},
   "outputs": [],
   "source": [
    "Ctr_noninf = adata[adata.obs['Condition'] == 'Ctr_noninf'].copy()\n",
    "Ctr_noninf"
   ]
  },
  {
   "cell_type": "markdown",
   "metadata": {},
   "source": [
    "# Annotation"
   ]
  },
  {
   "cell_type": "markdown",
   "metadata": {},
   "source": [
    "## Clustering"
   ]
  },
  {
   "cell_type": "code",
   "execution_count": 9,
   "metadata": {},
   "outputs": [],
   "source": [
    "sc.tl.pca(Ctr_noninf,  n_comps=50, use_highly_variable=True)\n",
    "sc.pp.neighbors(Ctr_noninf)"
   ]
  },
  {
   "cell_type": "code",
   "execution_count": 10,
   "metadata": {},
   "outputs": [],
   "source": [
    "sc.tl.umap(Ctr_noninf)"
   ]
  },
  {
   "cell_type": "markdown",
   "metadata": {},
   "source": [
    "## Data Visualization"
   ]
  },
  {
   "cell_type": "code",
   "execution_count": 11,
   "metadata": {},
   "outputs": [],
   "source": [
    "sc.pl.umap(Ctr_noninf,color= ['Sample_Name', 'Sex', 'Genotype', 'Treatment', 'Condition', 'Sample_ID', 'n_genes_by_counts', 'total_counts', 'pct_counts_mt', 'pct_counts_ribo', 'doublet_scores', 'XIST-percentage', 'gender_check_cov', 'phase'], frameon = False,layer = 'cpm_normalization', cmap = 'RdYlBu_r' )"
   ]
  },
  {
   "cell_type": "markdown",
   "metadata": {},
   "source": [
    "## Marker Genes"
   ]
  },
  {
   "cell_type": "code",
   "execution_count": 12,
   "metadata": {},
   "outputs": [],
   "source": [
    "marker_genes = {'Ventricular Cardiomyocytes' : ['Myh7',' Myl2',' Fhl2'],\n",
    " 'Atrial Cardiomyocytes' :['Nppa',' Myl7',' Myl4'],\n",
    " 'Fibroblasts': ['Dcn',' Gsn',' Pdgfra'],\n",
    " 'Endothelial Cells' :['Vwf',' Pecam1',' Cdh5'],\n",
    " 'Pericytes' :['Rgs5',' Abcc9',' Kcnj8'],\n",
    " 'Smooth Muscle Cells' :['Myh11',' Tagln',' Acta2'],\n",
    " 'Myeloid Immune Cells' : ['Cd14',' C1qa',' Cd68'],\n",
    " 'Lymphoid Immune Cells' :['Cd8a',' Il7r',' Cd40lg'],\n",
    " 'Adipocytes' : ['Gpam',' Fasn',' Lep'],\n",
    " 'Neuronal Cells' :['Plp1',' Nrxn1',' Nrxn3'],\n",
    " 'Mesothelial Cells' :['Msln',' Wt1',' Bnc1']\n",
    "}"
   ]
  },
  {
   "cell_type": "code",
   "execution_count": 13,
   "metadata": {},
   "outputs": [],
   "source": [
    "marker_genes_in_data = {}\n",
    "for ct, markers in marker_genes.items():\n",
    "    markers_found = []\n",
    "    for marker in markers:\n",
    "        if marker in Ctr_noninf.var.index:\n",
    "            markers_found.append(marker)\n",
    "    marker_genes_in_data[ct] = markers_found"
   ]
  },
  {
   "cell_type": "markdown",
   "metadata": {},
   "source": [
    "## Plotting"
   ]
  },
  {
   "cell_type": "code",
   "execution_count": 14,
   "metadata": {},
   "outputs": [],
   "source": [
    "for cell_type, genes in marker_genes.items():\n",
    "    \n",
    "    cleaned_genes = [g.strip() for g in genes if g.strip() in Ctr_noninf.var_names]\n",
    "\n",
    "    if cleaned_genes:\n",
    "        print(f\"{cell_type.upper()}:\\n  → Plotting: {', '.join(cleaned_genes)}\\n\")\n",
    "        sc.pl.umap(\n",
    "            Ctr_noninf,\n",
    "            color=cleaned_genes,\n",
    "            vmin=0,\n",
    "            vmax=\"p99\",\n",
    "            sort_order=False,\n",
    "            frameon=False,\n",
    "            cmap=\"RdYlBu_r\", layer = 'cpm_normalization'\n",
    "        )\n",
    "    else:\n",
    "        print(f\"{cell_type.upper()}:\\n  ✗ No valid marker genes found in Ctr_noninf.var_names.\\n\")\n",
    "\n",
    "    print(\"\\n\" + \"-\"*60 + \"\\n\")"
   ]
  },
  {
   "cell_type": "markdown",
   "metadata": {},
   "source": [
    "## Leiden Clustering"
   ]
  },
  {
   "cell_type": "code",
   "execution_count": 15,
   "metadata": {},
   "outputs": [],
   "source": [
    "sc.tl.leiden(Ctr_noninf, resolution=1, key_added=\"leiden_1\")"
   ]
  },
  {
   "cell_type": "code",
   "execution_count": 16,
   "metadata": {},
   "outputs": [],
   "source": [
    "sc.tl.leiden(Ctr_noninf, resolution=0.1, key_added=\"leiden_0.1\")"
   ]
  },
  {
   "cell_type": "code",
   "execution_count": 17,
   "metadata": {},
   "outputs": [],
   "source": [
    "sc.tl.leiden(Ctr_noninf, resolution=0.2, key_added=\"leiden_0.2\")"
   ]
  },
  {
   "cell_type": "code",
   "execution_count": 18,
   "metadata": {},
   "outputs": [],
   "source": [
    "sc.tl.leiden(Ctr_noninf, resolution=0.3, key_added=\"leiden_0.3\")"
   ]
  },
  {
   "cell_type": "code",
   "execution_count": 19,
   "metadata": {},
   "outputs": [],
   "source": [
    "sc.tl.leiden(Ctr_noninf, resolution=0.5, key_added=\"leiden_0.5\")"
   ]
  },
  {
   "cell_type": "code",
   "execution_count": 20,
   "metadata": {},
   "outputs": [],
   "source": [
    "sc.pl.umap(Ctr_noninf, color=[\"leiden_0.1\",\"leiden_0.2\",\"leiden_0.3\",\"leiden_0.5\",\"leiden_1\"],frameon= False,legend_loc=\"on data\")"
   ]
  },
  {
   "cell_type": "markdown",
   "metadata": {},
   "source": [
    "# Cluster Annotation"
   ]
  },
  {
   "cell_type": "code",
   "execution_count": 21,
   "metadata": {},
   "outputs": [],
   "source": [
    "cl_annotation = {\n",
    "\"0\" : \"Endothelial Cells\",\n",
    "\"1\" : \"Venticular Cardiomyocytes\",\n",
    "\"2\" : \"Venticular Cardiomyocytes\",\n",
    "\"3\" : \"Fibroblasts\",\n",
    "\"4\" : \"Myeloid Immune Cells\",\n",
    "\"5\" : \"Endothelial Cells + + Neuronal Cells\",\n",
    "\"6\" : \"Fibroblasts + Endothelial Cells\",\n",
    "\"7\" : \"Pericytes + Smooth Muscle Cells\" ,\n",
    "\"8\" : \"Endothelial Cells\",\n",
    "\"9\" : \"Endothelial Cells + Neuronal Cells\",\n",
    "\"10\" : \"Lymphoid Immune Cells\",\n",
    "\"11\" : \"Venticular Cardiomyocytes + Atrial Cardiomyocytes + Fibroblasts \",\n",
    "\"12\" : \"Venticular Cardiomyocytes + Atrial Cardiomyocytes + Fibroblasts\"\n",
    "}"
   ]
  },
  {
   "cell_type": "code",
   "execution_count": 22,
   "metadata": {},
   "outputs": [],
   "source": [
    "Ctr_noninf.obs[\"manual_celltype_annotation_specific\"] = Ctr_noninf.obs['leiden_0.3'].map(cl_annotation)"
   ]
  },
  {
   "cell_type": "code",
   "execution_count": 23,
   "metadata": {},
   "outputs": [],
   "source": [
    "sc.pl.umap(Ctr_noninf, color = 'leiden_0.3',frameon= False, legend_loc = 'on data')"
   ]
  },
  {
   "cell_type": "code",
   "execution_count": 24,
   "metadata": {},
   "outputs": [],
   "source": [
    "sc.pl.umap(Ctr_noninf, color = [\"manual_celltype_annotation_specific\"], frameon = False)"
   ]
  },
  {
   "cell_type": "code",
   "execution_count": 25,
   "metadata": {},
   "outputs": [],
   "source": [
    "cl_annotation2 = {\n",
    "\"0\" : \"Endothelial Cells\",\n",
    "\"1\" : \"Venticular Cardiomyocytes\",\n",
    "\"2\" : \"Venticular Cardiomyocytes\",\n",
    "\"3\" : \"Fibroblasts\",\n",
    "\"4\" : \"Myeloid Immune Cells\",\n",
    "\"5\" : \"Mixed Cell Types\",\n",
    "\"6\" : \"Mixed Cell Types\",\n",
    "\"7\" : \"Pericytes + Smooth Muscle Cells\" ,\n",
    "\"8\" : \"Endothelial Cells\",\n",
    "\"9\" : \"Mixed Cell Types\",\n",
    "\"10\" : \"Lymphoid Immune Cells\",\n",
    "\"11\" : \"Mixed Cell Types\",\n",
    "\"12\" : \"Mixed Cell Types\"\n",
    "}"
   ]
  },
  {
   "cell_type": "code",
   "execution_count": 26,
   "metadata": {},
   "outputs": [],
   "source": [
    "Ctr_noninf.obs[\"manual_celltype_annotation_broad\"] = Ctr_noninf.obs['leiden_0.3'].map(cl_annotation2)"
   ]
  },
  {
   "cell_type": "code",
   "execution_count": 27,
   "metadata": {},
   "outputs": [],
   "source": [
    "sc.pl.umap(Ctr_noninf, color = [\"manual_celltype_annotation_broad\"], frameon = False)"
   ]
  },
  {
   "cell_type": "markdown",
   "metadata": {},
   "source": [
    "# Differentially Expressed Genes (DEGs)"
   ]
  },
  {
   "cell_type": "code",
   "execution_count": 28,
   "metadata": {},
   "outputs": [],
   "source": [
    "sc.tl.rank_genes_groups(Ctr_noninf, groupby=\"leiden_0.3\", method=\"wilcoxon\",use_raw= False, key_added = 'dea_leiden')"
   ]
  },
  {
   "cell_type": "code",
   "execution_count": 29,
   "metadata": {},
   "outputs": [],
   "source": [
    "sc.tl.dendrogram(Ctr_noninf,groupby='leiden_0.3')\n",
    "sc.pl.rank_genes_groups_dotplot(Ctr_noninf,groupby='leiden_0.3',standard_scale ='var',n_genes= 5, key='dea_leiden',values_to_plot= 'scores')"
   ]
  },
  {
   "cell_type": "code",
   "execution_count": 30,
   "metadata": {},
   "outputs": [],
   "source": [
    "deg_df = pd.DataFrame(Ctr_noninf.uns[\"dea_leiden\"][\"names\"]).head(100)  \n",
    "print(deg_df)"
   ]
  },
  {
   "cell_type": "code",
   "execution_count": 31,
   "metadata": {},
   "outputs": [],
   "source": [
    "deg_df.to_csv(f'./Github/ACM_sn_2025/data/DE_genes_bbknn_toppfun_Ctr_noninf_{timestamp}.csv',sep=',')"
   ]
  },
  {
   "cell_type": "markdown",
   "metadata": {},
   "source": [
    "# Cluster Annotation - based on DEGs"
   ]
  },
  {
   "cell_type": "code",
   "execution_count": 32,
   "metadata": {},
   "outputs": [],
   "source": [
    "toppfun_annotation = {\n",
    "\"0\":\"Endothelial\",\n",
    "\"1\":\"Cytoplasmic Cardiomyocyte\",\n",
    "\"2\":\"Ventricular Cardiomyocyte\",\n",
    "\"3\":\"Fibroblasts\",\n",
    "\"4\":\"Macrophages\",\n",
    "\"5\":\"Endothelial\",\n",
    "\"6\":\"Macrophages\",\n",
    "\"7\":\"Mesenchymal cells\",\n",
    "\"8\":\"Endothelial\",\n",
    "\"9\":\"Neuronal cells\",\n",
    "\"10\":\"Unclear\",\n",
    "\"11\":\"Unclear\",\n",
    "\"12\":\"Unclear\",\n",
    "}"
   ]
  },
  {
   "cell_type": "code",
   "execution_count": 33,
   "metadata": {},
   "outputs": [],
   "source": [
    "Ctr_noninf.obs[\"toppfun_annotation\"] = Ctr_noninf.obs['leiden_0.3'].map(toppfun_annotation)"
   ]
  },
  {
   "cell_type": "code",
   "execution_count": 34,
   "metadata": {},
   "outputs": [],
   "source": [
    "sc.pl.umap(Ctr_noninf, color = [\"toppfun_annotation\"], frameon = False)"
   ]
  },
  {
   "cell_type": "code",
   "execution_count": 35,
   "metadata": {},
   "outputs": [],
   "source": [
    "Ctr_noninf.write_h5ad(f'./Github/ACM_sn_2025/data/acm_manual_anno_Ctr_noninf_{timestamp}.h5ad')"
   ]
  }
 ],
 "metadata": {
  "kernelspec": {
   "display_name": "scanpy",
   "language": "python",
   "name": "pyscenic"
  }
 },
 "nbformat": 4,
 "nbformat_minor": 2
}
