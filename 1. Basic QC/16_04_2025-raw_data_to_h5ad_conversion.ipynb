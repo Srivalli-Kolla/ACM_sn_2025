{
 "cells": [
  {
   "cell_type": "markdown",
   "metadata": {},
   "source": [
    "# Notebook to convert raw data to h5ad\n",
    "\n",
    "**Created by :** Srivalli Kolla\n",
    "\n",
    "**Created on :** 16 April, 2025\n",
    "\n",
    "**Modified on :** 16 April, 2025\n",
    "\n",
    "**University of Würzburg**"
   ]
  },
  {
   "cell_type": "markdown",
   "metadata": {},
   "source": [
    "Env : scanpy (Python 3.12.2)"
   ]
  },
  {
   "cell_type": "markdown",
   "metadata": {},
   "source": [
    "# Importing Packages"
   ]
  },
  {
   "cell_type": "code",
   "execution_count": 1,
   "metadata": {},
   "outputs": [],
   "source": [
    "import anndata as ad\n",
    "import scanpy as sc\n",
    "import os\n",
    "import datetime"
   ]
  },
  {
   "cell_type": "code",
   "execution_count": 2,
   "metadata": {},
   "outputs": [
    {
     "name": "stdout",
     "output_type": "stream",
     "text": [
      "-----\n",
      "anndata     0.11.3\n",
      "scanpy      1.10.4\n",
      "-----\n",
      "Cython                      3.0.12\n",
      "PIL                         11.1.0\n",
      "anyio                       NA\n",
      "arrow                       1.3.0\n",
      "asttokens                   NA\n",
      "attr                        25.1.0\n",
      "attrs                       25.1.0\n",
      "babel                       2.17.0\n",
      "certifi                     2025.01.31\n",
      "charset_normalizer          3.4.1\n",
      "colorama                    0.4.6\n",
      "comm                        0.2.2\n",
      "cycler                      0.12.1\n",
      "cython                      3.0.12\n",
      "cython_runtime              NA\n",
      "dateutil                    2.9.0.post0\n",
      "debugpy                     1.8.12\n",
      "decorator                   5.2.1\n",
      "defusedxml                  0.7.1\n",
      "executing                   2.1.0\n",
      "fastjsonschema              NA\n",
      "fqdn                        NA\n",
      "h5py                        3.13.0\n",
      "idna                        3.10\n",
      "igraph                      0.11.8\n",
      "ipykernel                   6.29.5\n",
      "ipywidgets                  8.1.5\n",
      "isoduration                 NA\n",
      "jedi                        0.19.2\n",
      "jinja2                      3.1.6\n",
      "joblib                      1.4.2\n",
      "json5                       0.10.0\n",
      "jsonpointer                 3.0.0\n",
      "jsonschema                  4.23.0\n",
      "jsonschema_specifications   NA\n",
      "jupyter_events              0.12.0\n",
      "jupyter_server              2.15.0\n",
      "jupyterlab_server           2.27.3\n",
      "kiwisolver                  1.4.7\n",
      "legacy_api_wrap             NA\n",
      "leidenalg                   0.10.2\n",
      "llvmlite                    0.44.0\n",
      "markupsafe                  3.0.2\n",
      "matplotlib                  3.10.1\n",
      "mpl_toolkits                NA\n",
      "natsort                     8.4.0\n",
      "nbformat                    5.10.4\n",
      "numba                       0.61.0\n",
      "numpy                       2.1.3\n",
      "overrides                   NA\n",
      "packaging                   24.2\n",
      "pandas                      2.2.3\n",
      "parso                       0.8.4\n",
      "platformdirs                4.3.6\n",
      "prometheus_client           NA\n",
      "prompt_toolkit              3.0.50\n",
      "psutil                      7.0.0\n",
      "pure_eval                   0.2.3\n",
      "pydev_ipython               NA\n",
      "pydevconsole                NA\n",
      "pydevd                      3.2.3\n",
      "pydevd_file_utils           NA\n",
      "pydevd_plugins              NA\n",
      "pydevd_tracing              NA\n",
      "pygments                    2.19.1\n",
      "pyparsing                   3.2.1\n",
      "pythonjsonlogger            NA\n",
      "pytz                        2024.1\n",
      "referencing                 NA\n",
      "requests                    2.32.3\n",
      "rfc3339_validator           0.1.4\n",
      "rfc3986_validator           0.1.1\n",
      "rpds                        NA\n",
      "scipy                       1.15.2\n",
      "send2trash                  NA\n",
      "session_info                1.0.0\n",
      "six                         1.17.0\n",
      "sklearn                     1.6.1\n",
      "sniffio                     1.3.1\n",
      "stack_data                  0.6.3\n",
      "texttable                   1.7.0\n",
      "threadpoolctl               3.5.0\n",
      "tornado                     6.4.2\n",
      "traitlets                   5.14.3\n",
      "typing_extensions           NA\n",
      "uri_template                NA\n",
      "urllib3                     2.3.0\n",
      "vscode                      NA\n",
      "wcwidth                     0.2.13\n",
      "webcolors                   NA\n",
      "websocket                   1.8.0\n",
      "yaml                        6.0.2\n",
      "zmq                         26.2.1\n",
      "-----\n",
      "IPython             9.0.1\n",
      "jupyter_client      8.6.3\n",
      "jupyter_core        5.7.2\n",
      "jupyterlab          4.3.6\n",
      "notebook            7.3.3\n",
      "-----\n",
      "Python 3.13.2 | packaged by conda-forge | (main, Feb 17 2025, 14:10:22) [GCC 13.3.0]\n",
      "Linux-6.13.5-200.fc41.x86_64-x86_64-with-glibc2.37\n",
      "-----\n",
      "Session information updated at 2025-04-16 09:54\n"
     ]
    },
    {
     "name": "stderr",
     "output_type": "stream",
     "text": [
      "/home/gruengroup/srivalli/miniconda3/envs/scanpy/lib/python3.13/site-packages/session_info/main.py:213: UserWarning: The '__version__' attribute is deprecated and will be removed in MarkupSafe 3.1. Use feature detection, or `importlib.metadata.version(\"markupsafe\")`, instead.\n",
      "  mod_version = _find_version(mod.__version__)\n"
     ]
    }
   ],
   "source": [
    "sc.settings.verbosity = 3\n",
    "sc.logging.print_versions()\n",
    "\n",
    "timestamp = datetime.datetime.now().strftime(\"%d_%m_%y\")"
   ]
  },
  {
   "cell_type": "markdown",
   "metadata": {},
   "source": [
    "# Data loading"
   ]
  },
  {
   "cell_type": "code",
   "execution_count": 3,
   "metadata": {},
   "outputs": [
    {
     "name": "stdout",
     "output_type": "stream",
     "text": [
      "/home/gruengroup/srivalli/Github/ACM_sn_2025\n"
     ]
    }
   ],
   "source": [
    "cd './Github/ACM_sn_2025'"
   ]
  },
  {
   "cell_type": "code",
   "execution_count": 4,
   "metadata": {},
   "outputs": [
    {
     "data": {
      "text/plain": [
       "['B10_Lib2',\n",
       " 'B5_Lib2',\n",
       " 'B7_Lib2',\n",
       " 'B6_Lib2',\n",
       " 'B8_Lib2',\n",
       " 'B9_Lib2',\n",
       " 'B11_Lib2',\n",
       " 'B3_Lib2',\n",
       " 'B4_Lib2']"
      ]
     },
     "execution_count": 4,
     "metadata": {},
     "output_type": "execute_result"
    }
   ],
   "source": [
    "base_dir = \"./data/Library2/\"\n",
    "\n",
    "samples = [d for d in os.listdir(base_dir) if os.path.isdir(os.path.join(base_dir, d))]\n",
    "samples"
   ]
  },
  {
   "cell_type": "markdown",
   "metadata": {},
   "source": [
    "# Data export"
   ]
  },
  {
   "cell_type": "markdown",
   "metadata": {},
   "source": [
    "1. Load matrix files\n",
    "2. Add Sample name by splitting the id by '_' and considering only part before split(B3_Lib2 = B3)\n",
    "3. Writing h5ad file in output path"
   ]
  },
  {
   "cell_type": "code",
   "execution_count": 5,
   "metadata": {},
   "outputs": [
    {
     "name": "stdout",
     "output_type": "stream",
     "text": [
      "Loading matrix from ./data/Library2/B10_Lib2/filtered_feature_bc_matrix...\n",
      "--> This might be very slow. Consider passing `cache=True`, which enables much faster reading from a cache file.\n",
      "Saved to ./data/Library2/B10_Lib2/B10_16_04_25.h5ad\n",
      "Loading matrix from ./data/Library2/B5_Lib2/filtered_feature_bc_matrix...\n",
      "--> This might be very slow. Consider passing `cache=True`, which enables much faster reading from a cache file.\n",
      "Saved to ./data/Library2/B5_Lib2/B5_16_04_25.h5ad\n",
      "Loading matrix from ./data/Library2/B7_Lib2/filtered_feature_bc_matrix...\n",
      "--> This might be very slow. Consider passing `cache=True`, which enables much faster reading from a cache file.\n",
      "Saved to ./data/Library2/B7_Lib2/B7_16_04_25.h5ad\n",
      "Loading matrix from ./data/Library2/B6_Lib2/filtered_feature_bc_matrix...\n",
      "--> This might be very slow. Consider passing `cache=True`, which enables much faster reading from a cache file.\n",
      "Saved to ./data/Library2/B6_Lib2/B6_16_04_25.h5ad\n",
      "Loading matrix from ./data/Library2/B8_Lib2/filtered_feature_bc_matrix...\n",
      "--> This might be very slow. Consider passing `cache=True`, which enables much faster reading from a cache file.\n",
      "Saved to ./data/Library2/B8_Lib2/B8_16_04_25.h5ad\n",
      "Loading matrix from ./data/Library2/B9_Lib2/filtered_feature_bc_matrix...\n",
      "--> This might be very slow. Consider passing `cache=True`, which enables much faster reading from a cache file.\n",
      "Saved to ./data/Library2/B9_Lib2/B9_16_04_25.h5ad\n",
      "Loading matrix from ./data/Library2/B11_Lib2/filtered_feature_bc_matrix...\n",
      "--> This might be very slow. Consider passing `cache=True`, which enables much faster reading from a cache file.\n",
      "Saved to ./data/Library2/B11_Lib2/B11_16_04_25.h5ad\n",
      "Loading matrix from ./data/Library2/B3_Lib2/filtered_feature_bc_matrix...\n",
      "--> This might be very slow. Consider passing `cache=True`, which enables much faster reading from a cache file.\n",
      "Saved to ./data/Library2/B3_Lib2/B3_16_04_25.h5ad\n",
      "Loading matrix from ./data/Library2/B4_Lib2/filtered_feature_bc_matrix...\n",
      "--> This might be very slow. Consider passing `cache=True`, which enables much faster reading from a cache file.\n",
      "Saved to ./data/Library2/B4_Lib2/B4_16_04_25.h5ad\n"
     ]
    }
   ],
   "source": [
    "for sample in samples:\n",
    "    matrix_dir = os.path.join(base_dir, sample, \"filtered_feature_bc_matrix\")\n",
    "\n",
    "    print(f\"Loading matrix from {matrix_dir}...\")\n",
    "    adata = sc.read_10x_mtx(matrix_dir, var_names='gene_symbols', cache=False)\n",
    "    sample_id = sample.split(\"_\")[0]\n",
    "    adata.obs['sample'] = sample_id\n",
    "    \n",
    "    out_file = os.path.join(base_dir, sample, f\"{sample_id}_{timestamp}.h5ad\")\n",
    "    adata.write(out_file)\n",
    "\n",
    "    print(f\"Saved to {out_file}\")"
   ]
  }
 ],
 "metadata": {
  "kernelspec": {
   "display_name": "scanpy",
   "language": "python",
   "name": "pyscenic"
  },
  "language_info": {
   "codemirror_mode": {
    "name": "ipython",
    "version": 3
   },
   "file_extension": ".py",
   "mimetype": "text/x-python",
   "name": "python",
   "nbconvert_exporter": "python",
   "pygments_lexer": "ipython3",
   "version": "3.13.2"
  }
 },
 "nbformat": 4,
 "nbformat_minor": 2
}
